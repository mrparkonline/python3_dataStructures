{
 "cells": [
  {
   "cell_type": "markdown",
   "metadata": {},
   "source": [
    "# Map & Filter In Python 3\n",
    "---\n",
    "\n",
    "In this note, we will be covering some useful built-in functions to help us extend our list comprehension capabilities.\n",
    "\n",
    "These two functions that we learn will also be revisited when we do functional programming and lambda functions.\n",
    "\n",
    "## The Map Function\n",
    "\n",
    "The idea of a map function is to apply a function to an iterable data.\n",
    "\n",
    "``` \n",
    "Formatting:\n",
    "\n",
    "map(function_name, sequence)\n",
    "\n",
    "-- function_name: any function (built-in or selfmade) that returns a desired value of choice\n",
    "-- sequence: any iterable data type\n",
    "```"
   ]
  },
  {
   "cell_type": "code",
   "execution_count": 11,
   "metadata": {},
   "outputs": [
    {
     "name": "stdout",
     "output_type": "stream",
     "text": [
      "Original Array: [1, 2, 3, 4, 5, 6, 7, 8, 9, 10]\n",
      "Array Squared: [1, 4, 9, 16, 25, 36, 49, 64, 81, 100]\n"
     ]
    }
   ],
   "source": [
    "# Example\n",
    "def square(num):\n",
    "    ''' squares the given num argument '''\n",
    "    return num ** 2\n",
    "# end of square\n",
    "\n",
    "array = list(range(1,11))\n",
    "square_array = list(map(square, array))\n",
    "\n",
    "print('Original Array:', array)\n",
    "print('Array Squared:', square_array)"
   ]
  },
  {
   "cell_type": "markdown",
   "metadata": {},
   "source": [
    "One thing to note about the map function is that it doesn't return a specific data type, but rather, an python iterable data.\n",
    "Therefore, after we apply the map function, we just execute a list function on it."
   ]
  },
  {
   "cell_type": "code",
   "execution_count": 12,
   "metadata": {},
   "outputs": [
    {
     "name": "stdout",
     "output_type": "stream",
     "text": [
      "hello world!\n",
      "HELLO WORLD!\n",
      "HELLO WORLD!\n"
     ]
    }
   ],
   "source": [
    "# Example 2\n",
    "\n",
    "def upper(x):\n",
    "    return x.upper()\n",
    "\n",
    "word = 'hello world!'\n",
    "upper_word = ''.join(list(map(upper, word)))\n",
    "\n",
    "print(word)\n",
    "print(upper_word)\n",
    "\n",
    "# simpler way:\n",
    "print(word.upper())"
   ]
  },
  {
   "cell_type": "markdown",
   "metadata": {},
   "source": [
    "In example 2, we are doing a lot of unnecessary work to make our original word variable uppercased.\n",
    "This is an example of how you shouldn't use map() for every little changes you want to a string.\n",
    "\n",
    "This also applies to all data structure that has methods. You don't want to use methods with map, since there is a high probablity that there is already method for what you might want to do."
   ]
  },
  {
   "cell_type": "code",
   "execution_count": null,
   "metadata": {},
   "outputs": [],
   "source": []
  }
 ],
 "metadata": {
  "kernelspec": {
   "display_name": "Python 3",
   "language": "python",
   "name": "python3"
  },
  "language_info": {
   "codemirror_mode": {
    "name": "ipython",
    "version": 3
   },
   "file_extension": ".py",
   "mimetype": "text/x-python",
   "name": "python",
   "nbconvert_exporter": "python",
   "pygments_lexer": "ipython3",
   "version": "3.6.10"
  }
 },
 "nbformat": 4,
 "nbformat_minor": 4
}
