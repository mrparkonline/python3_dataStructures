{
 "cells": [
  {
   "cell_type": "markdown",
   "metadata": {},
   "source": [
    "# Map & Filter In Python 3\n",
    "---\n",
    "\n",
    "In this note, we will be covering some useful built-in functions to help us extend our list comprehension capabilities.\n",
    "\n",
    "These two functions that we learn will also be revisited when we do functional programming and lambda functions.\n",
    "\n",
    "## The Map Function\n",
    "\n",
    "The idea of a map function is to apply a function to an iterable data.\n",
    "\n",
    "``` \n",
    "Formatting:\n",
    "\n",
    "map(function_name, sequence)\n",
    "\n",
    "-- function_name: any function (built-in or selfmade) that returns a desired value of choice\n",
    "-- sequence: any iterable data type\n",
    "```"
   ]
  },
  {
   "cell_type": "code",
   "execution_count": 11,
   "metadata": {},
   "outputs": [
    {
     "name": "stdout",
     "output_type": "stream",
     "text": [
      "Original Array: [1, 2, 3, 4, 5, 6, 7, 8, 9, 10]\n",
      "Array Squared: [1, 4, 9, 16, 25, 36, 49, 64, 81, 100]\n"
     ]
    }
   ],
   "source": [
    "# Example\n",
    "def square(num):\n",
    "    ''' squares the given num argument '''\n",
    "    return num ** 2\n",
    "# end of square\n",
    "\n",
    "array = list(range(1,11))\n",
    "square_array = list(map(square, array))\n",
    "\n",
    "print('Original Array:', array)\n",
    "print('Array Squared:', square_array)"
   ]
  },
  {
   "cell_type": "markdown",
   "metadata": {},
   "source": [
    "One thing to note about the map function is that it doesn't return a specific data type, but rather, an python iterable data.\n",
    "Therefore, after we apply the map function, we just execute a list function on it."
   ]
  },
  {
   "cell_type": "code",
   "execution_count": 3,
   "metadata": {},
   "outputs": [
    {
     "name": "stdout",
     "output_type": "stream",
     "text": [
      "hello world!\n",
      "HELLO WORLD!\n",
      "HELLO WORLD!\n"
     ]
    }
   ],
   "source": [
    "# Example 2\n",
    "\n",
    "def upper(x):\n",
    "    ''' upper() turns string x into its uppercased counter part '''\n",
    "    return x.upper()\n",
    "\n",
    "word = 'hello world!'\n",
    "upper_word = ''.join(list(map(upper, word)))\n",
    "\n",
    "print(word)\n",
    "print(upper_word)\n",
    "\n",
    "# simpler way:\n",
    "print(word.upper())"
   ]
  },
  {
   "cell_type": "markdown",
   "metadata": {},
   "source": [
    "In example 2, we are doing a lot of unnecessary work to make our original word variable uppercased.\n",
    "This is an example of how you shouldn't use map() for every little changes you want to a string.\n",
    "\n",
    "This also applies to all data structure that has methods. You don't want to use methods with map, since there is a high probablity that there is already method for what you might want to do."
   ]
  },
  {
   "cell_type": "markdown",
   "metadata": {},
   "source": [
    "## Filter Function\n",
    "\n",
    "The idea of the filter function is to filter out items from a data set that meets a certain condition.\n",
    "\n",
    "```\n",
    "Formatting:\n",
    "\n",
    "filter(bool_returning_function, sequence)\n",
    "\n",
    "-- function: The function name we provide for filter() must be return a boolean value ... should also be able handle the items inside the sequence as its arguments\n",
    "-- sequence: any iterable data type\n",
    "```"
   ]
  },
  {
   "cell_type": "code",
   "execution_count": 1,
   "metadata": {},
   "outputs": [
    {
     "name": "stdout",
     "output_type": "stream",
     "text": [
      "Odd Numbers from 1 to 100: [1, 3, 5, 7, 9, 11, 13, 15, 17, 19, 21, 23, 25, 27, 29, 31, 33, 35, 37, 39, 41, 43, 45, 47, 49, 51, 53, 55, 57, 59, 61, 63, 65, 67, 69, 71, 73, 75, 77, 79, 81, 83, 85, 87, 89, 91, 93, 95, 97, 99]\n"
     ]
    }
   ],
   "source": [
    "# Example 3\n",
    "\n",
    "def isOdd(x):\n",
    "    ''' isOdd() returns True if x is odd.'''\n",
    "    return x % 2 != 0\n",
    "\n",
    "array = list(range(1,101))\n",
    "odds = list(filter(isOdd, array))\n",
    "\n",
    "print('Odd Numbers from 1 to 100:', odds)"
   ]
  },
  {
   "cell_type": "markdown",
   "metadata": {},
   "source": [
    "It is true that this can be done differently, but this was a simplistic use of filter to show we can _filter_ out variables that satisfies condition... aka the condition is **True**."
   ]
  },
  {
   "cell_type": "markdown",
   "metadata": {},
   "source": [
    "## Example Problem: List of Palindromic Numbers\n",
    "\n",
    "Our goal in this example program is to create a list of palindromic numbers (numbers that are palindromes) from 1 to 10,000."
   ]
  },
  {
   "cell_type": "code",
   "execution_count": 2,
   "metadata": {},
   "outputs": [
    {
     "name": "stdout",
     "output_type": "stream",
     "text": [
      "Palindromic Numbers from 1 to 10,000 [1, 2, 3, 4, 5, 6, 7, 8, 9, 11, 22, 33, 44, 55, 66, 77, 88, 99, 101, 111, 121, 131, 141, 151, 161, 171, 181, 191, 202, 212, 222, 232, 242, 252, 262, 272, 282, 292, 303, 313, 323, 333, 343, 353, 363, 373, 383, 393, 404, 414, 424, 434, 444, 454, 464, 474, 484, 494, 505, 515, 525, 535, 545, 555, 565, 575, 585, 595, 606, 616, 626, 636, 646, 656, 666, 676, 686, 696, 707, 717, 727, 737, 747, 757, 767, 777, 787, 797, 808, 818, 828, 838, 848, 858, 868, 878, 888, 898, 909, 919, 929, 939, 949, 959, 969, 979, 989, 999, 1001, 1111, 1221, 1331, 1441, 1551, 1661, 1771, 1881, 1991, 2002, 2112, 2222, 2332, 2442, 2552, 2662, 2772, 2882, 2992, 3003, 3113, 3223, 3333, 3443, 3553, 3663, 3773, 3883, 3993, 4004, 4114, 4224, 4334, 4444, 4554, 4664, 4774, 4884, 4994, 5005, 5115, 5225, 5335, 5445, 5555, 5665, 5775, 5885, 5995, 6006, 6116, 6226, 6336, 6446, 6556, 6666, 6776, 6886, 6996, 7007, 7117, 7227, 7337, 7447, 7557, 7667, 7777, 7887, 7997, 8008, 8118, 8228, 8338, 8448, 8558, 8668, 8778, 8888, 8998, 9009, 9119, 9229, 9339, 9449, 9559, 9669, 9779, 9889, 9999]\n"
     ]
    }
   ],
   "source": [
    "# Palindromic Numbers from 1 to 10000\n",
    "\n",
    "def isPalindrome(x):\n",
    "    ''' isPalindrome returns True if string X is a palindrome.'''\n",
    "    return x == x[::-1]\n",
    "\n",
    "array = list(range(1,10000))\n",
    "\n",
    "palindromic_numbers = list(map(int, filter(isPalindrome, map(str, array))))\n",
    "print('Palindromic Numbers from 1 to 10,000', palindromicNumbers)"
   ]
  },
  {
   "cell_type": "markdown",
   "metadata": {},
   "source": [
    "**Explanation**\n",
    "```\n",
    "Function Composition Breakdown\n",
    "1. string version of the array --> map(str, array)\n",
    "2. filter out the palindrome --> filter(isPalindrome, string version of the array)\n",
    "3. remap all values back to integers --> map(int, palindromes)\n",
    "4. turn the mapped integers iterable back inside a list --> list(palindromicIterables)\n",
    "\n",
    "How it would looked with multiple defined variables:\n",
    "\n",
    "array = list(range(1,10000))\n",
    "str_array = map(str, array)\n",
    "palindromes = filter(isPalindrome, str_array)\n",
    "palindromics = map(int, palindromes)\n",
    "\n",
    "palindromic_numbers = list(palindromes)\n",
    "```\n",
    "\n",
    "_Composition of Functions_\n",
    "\n",
    "Composition of Functions is the idea of using functions within a function call or apply one function to the result of another function. You can read more about them [here.](https://en.wikipedia.org/wiki/Function_composition)"
   ]
  }
 ],
 "metadata": {
  "kernelspec": {
   "display_name": "Python 3",
   "language": "python",
   "name": "python3"
  },
  "language_info": {
   "codemirror_mode": {
    "name": "ipython",
    "version": 3
   },
   "file_extension": ".py",
   "mimetype": "text/x-python",
   "name": "python",
   "nbconvert_exporter": "python",
   "pygments_lexer": "ipython3",
   "version": "3.6.10"
  }
 },
 "nbformat": 4,
 "nbformat_minor": 4
}
