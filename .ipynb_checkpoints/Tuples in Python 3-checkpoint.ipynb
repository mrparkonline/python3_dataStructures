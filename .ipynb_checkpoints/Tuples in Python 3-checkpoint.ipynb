{
 "cells": [
  {
   "cell_type": "markdown",
   "metadata": {},
   "source": [
    "# Tuples in Python 3\n",
    "---\n",
    "\n",
    "## What are Tuples?\n",
    "\n",
    "Strings and Lists are basic iterable data types that are very similar with key differences:\n",
    "- Strings only allow alphanumeric characters and special symbols to represent text\n",
    "- Lists allow all data types as its items/members\n",
    "- Strings are immutable whereas Lists are mutable\n",
    "\n",
    "These significant differences cause a headache when you require the following data structure:\n",
    "- It must be immutable\n",
    "- It must allow different datatypes as items\n",
    "- It must be iterable\n",
    "- It must be nestable (much like a list within a list)\n",
    " \n",
    "**All of these are solved** with a data structure called: **Tuple**."
   ]
  },
  {
   "cell_type": "markdown",
   "metadata": {},
   "source": [
    "## How to use Tuples in Python 3\n",
    "\n",
    "- Tuples are declared with parenthesis ... aka round brackets\n",
    "- () is an empty tuple\n",
    "- (50,) is a singleton tuple; the comma is required\n",
    "- Tuples are sliceable; therefore, indexable using square brackets\n",
    "\n",
    "*A singleton is an iterable data structure with only single item*.\n",
    "\n",
    "### Tuple Example 1"
   ]
  },
  {
   "cell_type": "code",
   "execution_count": 2,
   "metadata": {},
   "outputs": [
    {
     "name": "stdout",
     "output_type": "stream",
     "text": [
      "('C', ' Java', 'Python')\n",
      "()\n",
      "('Park',)\n"
     ]
    }
   ],
   "source": [
    "tup = ('C', ' Java', 'Python')\n",
    "empty_tup = ()\n",
    "single_tup = ('Park',)\n",
    "\n",
    "print(tup)\n",
    "print(empty_tup)\n",
    "print(single_tup)"
   ]
  },
  {
   "cell_type": "markdown",
   "metadata": {},
   "source": [
    "## Tuple Operators"
   ]
  },
  {
   "cell_type": "code",
   "execution_count": 7,
   "metadata": {},
   "outputs": [
    {
     "name": "stdout",
     "output_type": "stream",
     "text": [
      "a+b: (1, 2, 3, 4, 5, 6)\n",
      "c*3 ('Hi!', 'Hi!', 'Hi!')\n",
      "d: (1, 2, 3, 4, 5, 6, 'Hi!')\n",
      "'Hi!' in d: True\n",
      "7 in d: False\n"
     ]
    }
   ],
   "source": [
    "# Concatenation: Joining two tuples\n",
    "a = (1,2,3)\n",
    "b = (4,5,6)\n",
    "concat_result = a + b\n",
    "print('a+b:', concat_result)\n",
    "\n",
    "\n",
    "# Repetition: Repeating a list multiple times\n",
    "c = ('Hi!',)\n",
    "repet_result = c * 3\n",
    "print('c*3', repet_result)\n",
    "\n",
    "# Membership: Check if a value exists in a tuple\n",
    "d = a + b + c\n",
    "print('d:', d)\n",
    "print('\\'Hi!\\' in d:', 'Hi!' in d)\n",
    "print('7 in d:', 7 in d)"
   ]
  },
  {
   "cell_type": "markdown",
   "metadata": {},
   "source": [
    "## Tuples are Iterable, Indexable, and Sliceable"
   ]
  },
  {
   "cell_type": "code",
   "execution_count": 13,
   "metadata": {},
   "outputs": [
    {
     "name": "stdout",
     "output_type": "stream",
     "text": [
      "Tuple example items:\n",
      "C\n",
      "Java\n",
      "Python\n",
      "C#\n",
      "JavaScript\n",
      "--\n",
      "Index 1: Java\n",
      "Last Value: JavaScript\n",
      "Backwards: ('JavaScript', 'C#', 'Python', 'Java', 'C')\n",
      "Every other: ('C', 'Python', 'JavaScript')\n",
      "From 1 to end: ('Java', 'Python', 'C#', 'JavaScript')\n",
      "From 1 to 3: ('Java', 'Python')\n"
     ]
    }
   ],
   "source": [
    "# Iteration\n",
    "example = ('C', 'Java', 'Python', 'C#', 'JavaScript')\n",
    "\n",
    "print('Tuple example items:')\n",
    "for language in example:\n",
    "    print(language)\n",
    "print('--')\n",
    "\n",
    "# Indexing\n",
    "print('Index 1:', example[1])\n",
    "print('Last Value:', example[-1])\n",
    "\n",
    "# Slicing\n",
    "print('Backwards:', example[::-1])\n",
    "print('Every other:', example[::2])\n",
    "print('From 1 to end:', example[1:])\n",
    "print('From 1 to 3:', example[1:3])"
   ]
  },
  {
   "cell_type": "markdown",
   "metadata": {},
   "source": [
    "## Built-in Functions with Tuple"
   ]
  },
  {
   "cell_type": "code",
   "execution_count": 18,
   "metadata": {},
   "outputs": [
    {
     "name": "stdout",
     "output_type": "stream",
     "text": [
      "Length: 5\n",
      "Minimum value: C\n",
      "Maximum value: Python\n",
      "--\n",
      "String to Tuple: ('H', 'e', 'l', 'l', 'o')\n",
      "List to Tuple: (1, 2, 3, 4)\n",
      "2D array to Tuple: ([1], [2, 3], [4])\n",
      "--\n",
      "[['p'], [2, 3], [4]]\n"
     ]
    }
   ],
   "source": [
    "example = ('C', 'Java', 'Python', 'C#', 'JavaScript')\n",
    "\n",
    "print('Length:', len(example))\n",
    "print('Minimum value:', min(example))\n",
    "print('Maximum value:', max(example))\n",
    "print('--')\n",
    "\n",
    "word = 'Hello'\n",
    "array = [1,2,3,4]\n",
    "array_array = [[1],[2,3],[4]]\n",
    "\n",
    "print('String to Tuple:', tuple(word))\n",
    "print('List to Tuple:', tuple(array))\n",
    "print('2D array to Tuple:', tuple(array_array))\n",
    "print('--')\n",
    "\n",
    "array_array[0][0] = 'p'\n",
    "print(array_array)\n",
    "\n",
    "# Note: don't have mutable data type as items in a tuple ..."
   ]
  },
  {
   "cell_type": "markdown",
   "metadata": {},
   "source": [
    "## Tuple Comprehension"
   ]
  },
  {
   "cell_type": "code",
   "execution_count": 21,
   "metadata": {},
   "outputs": [
    {
     "name": "stdout",
     "output_type": "stream",
     "text": [
      "(2, 4, 6, 8, 10, 12, 14, 16, 18, 20, 22, 24, 26, 28, 30, 32, 34, 36, 38, 40, 42, 44, 46, 48, 50, 52, 54, 56, 58, 60, 62, 64, 66, 68, 70, 72, 74, 76, 78, 80, 82, 84, 86, 88, 90, 92, 94, 96, 98, 100)\n"
     ]
    }
   ],
   "source": [
    "# Tuple of Even values from 1 to 100\n",
    "even_tup = tuple(i for i in range(1,101) if i % 2 == 0)\n",
    "\n",
    "print(even_tup)"
   ]
  },
  {
   "cell_type": "markdown",
   "metadata": {},
   "source": [
    "The parentheses were taken for a different functionality in python; therefore, we have to do comprehension like this.\n",
    "\n",
    "The general format is the exactly the same as list comprehension."
   ]
  },
  {
   "cell_type": "markdown",
   "metadata": {},
   "source": [
    "## Tuple & Python: Packing and Unpacking"
   ]
  },
  {
   "cell_type": "code",
   "execution_count": 25,
   "metadata": {},
   "outputs": [
    {
     "name": "stdout",
     "output_type": "stream",
     "text": [
      "Packed prime values: (2, 3, 5)\n",
      "fib_0: 0\n",
      "fib_1: 1\n",
      "fib_n: (1, 2, 3, 5, 8)\n"
     ]
    }
   ],
   "source": [
    "# Examine the following code\n",
    "\n",
    "# Packing\n",
    "var_1 = 2\n",
    "var_2 = 3\n",
    "var_3 = 5\n",
    "\n",
    "prime = var_1, var_2, var_3\n",
    "\n",
    "print('Packed prime values:', prime)\n",
    "\n",
    "# Unpacking and Repacking\n",
    "fib = (0, 1, 1, 2, 3, 5, 8)\n",
    "\n",
    "fib_0, fib_1, fib_n = fib[0], fib[1], fib[2:]\n",
    "print('fib_0:', fib_0)\n",
    "print('fib_1:', fib_1)\n",
    "print('fib_n:', fib_n)"
   ]
  },
  {
   "cell_type": "markdown",
   "metadata": {},
   "source": [
    "**Explanation:**\n",
    "- Packing collect multiple variable's values and assign it to a single variable\n",
    "- Unpacking help us assign certain values from a tuple to different variables\n",
    "- This becomes very useful skill when combined with variable arguments for Function Definition and Function Calls"
   ]
  }
 ],
 "metadata": {
  "kernelspec": {
   "display_name": "Python 3",
   "language": "python",
   "name": "python3"
  },
  "language_info": {
   "codemirror_mode": {
    "name": "ipython",
    "version": 3
   },
   "file_extension": ".py",
   "mimetype": "text/x-python",
   "name": "python",
   "nbconvert_exporter": "python",
   "pygments_lexer": "ipython3",
   "version": "3.6.10"
  }
 },
 "nbformat": 4,
 "nbformat_minor": 4
}
