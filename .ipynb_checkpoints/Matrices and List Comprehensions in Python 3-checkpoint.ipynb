{
 "cells": [
  {
   "cell_type": "markdown",
   "metadata": {},
   "source": [
    "# Matrices in Python 3\n",
    "---\n",
    "\n",
    "## What is a Matrix?\n",
    "\n",
    "Mathematically, matrix is a representations of numbers, symbols, or expressions in a 2-Dimensional Array.\n",
    "\n",
    "In Computer Science, especially with Python, we can start to create a data structure that has values in rows and columns, much like a table, by utilizing a list within a list. There are external libraries/modules that can be imported into your python program to help this process; however, we will be constructing them with just the standalone python version.\n",
    "\n",
    "This is a fundamental concept in mathematics especially for Calculus, Vectors, and Linear Algebra.\n",
    "\n",
    "For more information, you can read them [here](https://en.wikipedia.org/wiki/Matrix_(mathematics)).\n",
    "\n",
    "## Mathematical Matrix Diagram\n",
    "\n",
    "![](./src/matrix_fig01.png)\n",
    "\n",
    "This is a mathematical notation of what a matrix looks like; explanations are as follows:"
   ]
  },
  {
   "cell_type": "markdown",
   "metadata": {},
   "source": [
    "```\n",
    "Let A represent the matrix\n",
    "Matrix A has m rows and n columns ... in this case 2 rows and 4 columns.\n",
    "\n",
    "Row 1 has values of 1 2 3 4\n",
    "Column 2 has values of 2 6\n",
    "```\n",
    "\n",
    "## Matrix A in Python 3"
   ]
  },
  {
   "cell_type": "code",
   "execution_count": 10,
   "metadata": {},
   "outputs": [
    {
     "name": "stdout",
     "output_type": "stream",
     "text": [
      "Row 1: [1, 2, 3, 4]\n",
      "Value at Row 2 Column 2: 6\n"
     ]
    }
   ],
   "source": [
    "# Python 3 Representation of matrix A\n",
    "\n",
    "matrix_A = [\n",
    "    [1, 2, 3, 4],\n",
    "    [5, 6, 7, 8]\n",
    "]\n",
    "\n",
    "# Accessing Matrix A\n",
    "print('Row 1: %s' % matrix_A[0]) # Recall: Indexing starts at zero in Python\n",
    "print('Value at Row 2 Column 2: %s' % matrix_A[1][1])"
   ]
  },
  {
   "cell_type": "markdown",
   "metadata": {},
   "source": [
    "```\n",
    "In Python 3, there is no data structure called a \"Matrix\".\n",
    "\n",
    "Therefore, we are programming a list within a list and following the rules of a regular matrix:\n",
    "- All rows must have the same number of values\n",
    "- All columns must have the same number of values\n",
    "- All items in the 2D List must have the same data types\n",
    "- Since indexing always starts at 0 ... row 1 is technically located at matrix_A[0]\n",
    "```"
   ]
  },
  {
   "cell_type": "markdown",
   "metadata": {},
   "source": [
    "# List Comprehension in Python 3\n",
    "---\n",
    "\n",
    "List Comprehension is a concise method to create list in Python 3.\n",
    "\n",
    "This technique is commonly used when:\n",
    "- The list is a result of some operations applied to all its items\n",
    "- It is a made from another sequence/iterable data\n",
    "- The list is member of another list/sequence/iterable data that satisfies a certain condition\n",
    "\n",
    "_This is where the **lambda function** would be used, but… we will learn the other way for readability._\n",
    "_We will definitely talk about lambda functions in our Functional Programming Unit_"
   ]
  },
  {
   "cell_type": "markdown",
   "metadata": {},
   "source": [
    "## List Comprehension Example 1\n",
    "\n",
    "We are to create a list which squares all the numbers from [0,10)"
   ]
  },
  {
   "cell_type": "code",
   "execution_count": 4,
   "metadata": {},
   "outputs": [
    {
     "name": "stdout",
     "output_type": "stream",
     "text": [
      "Our result: [0, 1, 4, 9, 16, 25, 36, 49, 64, 81]\n"
     ]
    }
   ],
   "source": [
    "# Old Method\n",
    "squares = []\n",
    "for i in range(10):\n",
    "    squares.append(i ** 2)\n",
    "\n",
    "print('Our result: %s' % squares)"
   ]
  },
  {
   "cell_type": "code",
   "execution_count": 5,
   "metadata": {},
   "outputs": [
    {
     "name": "stdout",
     "output_type": "stream",
     "text": [
      "Our new result: [0, 1, 4, 9, 16, 25, 36, 49, 64, 81]\n"
     ]
    }
   ],
   "source": [
    "# List Comprehension\n",
    "\n",
    "squares = [i**2 for i in range(10)]\n",
    "\n",
    "print('Our new result: %s' % squares)"
   ]
  },
  {
   "cell_type": "markdown",
   "metadata": {},
   "source": [
    "## How Does it Work?\n",
    "\n",
    "List comprehension consists of:\n",
    "- A **Square Bracket** containing an expression that describes the list\n",
    "- One or more **For clause** to explain its members\n",
    "- Then a zero or more **if clauses** depending on the complexity of the list\n",
    "\n",
    "```\n",
    "Examine: [i**2 for i in range(10)]\n",
    "\n",
    "-- i**2 for i in range(10) --> is the expression that describe the list\n",
    "-- i**2 describes each item in the list\n",
    "-- i is taken from the for clause\n",
    "-- for i in range(10) describes where i comes from\n",
    "```"
   ]
  },
  {
   "cell_type": "markdown",
   "metadata": {},
   "source": [
    "### List Comprehension Example 2\n",
    "\n",
    "```\n",
    "Create the list: [[1, 3], [1, 4], [2, 3], [2, 1], [2, 4], [3, 1], [3, 4]]\n",
    "From \n",
    "A = [1,2,3]\n",
    "B = [3,1,4]\n",
    "\n",
    "By using list comprehension\n",
    "```"
   ]
  },
  {
   "cell_type": "code",
   "execution_count": 1,
   "metadata": {},
   "outputs": [
    {
     "name": "stdout",
     "output_type": "stream",
     "text": [
      "[[1, 3], [1, 4], [2, 3], [2, 1], [2, 4], [3, 1], [3, 4]]\n"
     ]
    }
   ],
   "source": [
    "# Solution\n",
    "a = [1,2,3]\n",
    "b = [3,1,4]\n",
    "\n",
    "result = [[x, y] for x in a for y in b if x != y]\n",
    "print(result)"
   ]
  },
  {
   "cell_type": "markdown",
   "metadata": {},
   "source": [
    "**Explanation:**\n",
    "```\n",
    "Each item of our list has to be a list of two values; therefore, each item is described as [x, y]\n",
    "\n",
    "There are two for clauses because we are create a list from two sources\n",
    "-- x comes from a\n",
    "-- y comes from b\n",
    "\n",
    "There is a condition to our item --> x != y\n",
    "-- Therefore, as long as the condition x != y is true, we will add the item described as [x,y] to our resulting list\n",
    "```\n",
    "\n",
    "### List Comprehension Example 3\n",
    "```\n",
    "Use list comprehension to turn a 2D array called vec to a single list\n",
    "\n",
    "vec = [[1,2,3], [4,5,6], [7,8,9]]\n",
    "Output: [1, 2, 3, 4, 5, 6, 7, 8, 9]\n",
    "```"
   ]
  },
  {
   "cell_type": "code",
   "execution_count": 12,
   "metadata": {},
   "outputs": [
    {
     "name": "stdout",
     "output_type": "stream",
     "text": [
      "Vec as a single list of values: [1, 2, 3, 4, 5, 6, 7, 8, 9]\n"
     ]
    }
   ],
   "source": [
    "# Solution\n",
    "\n",
    "vec = [[1,2,3], [4,5,6], [7,8,9]]\n",
    "\n",
    "result = [value for row in vec for value in row]\n",
    "print('Vec as a single list of values: %s' % result)"
   ]
  },
  {
   "cell_type": "markdown",
   "metadata": {},
   "source": [
    "**Explanation**\n",
    "```\n",
    "Vec is an example of a matrix in Python 3 by using list of lists\n",
    "\n",
    "To grab each value one by one from the rows we must do the following in order:\n",
    "1. Explain what each item in the list comprehension is going to be ... in our case --> \"value\"\n",
    "2. To now access where value is, define where it comes from ... in our case --> \"row\"; \n",
    "        therefore, for row in vec\n",
    "3. Finally we construct our last for clause to denote that value comes from the row\n",
    "\n",
    "With list comprehension, the order of your for clauses matter!\n",
    "```"
   ]
  }
 ],
 "metadata": {
  "kernelspec": {
   "display_name": "Python 3",
   "language": "python",
   "name": "python3"
  },
  "language_info": {
   "codemirror_mode": {
    "name": "ipython",
    "version": 3
   },
   "file_extension": ".py",
   "mimetype": "text/x-python",
   "name": "python",
   "nbconvert_exporter": "python",
   "pygments_lexer": "ipython3",
   "version": "3.8.2"
  }
 },
 "nbformat": 4,
 "nbformat_minor": 4
}
