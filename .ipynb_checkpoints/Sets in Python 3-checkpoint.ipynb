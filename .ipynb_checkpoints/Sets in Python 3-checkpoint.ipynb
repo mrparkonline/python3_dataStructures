{
 "cells": [
  {
   "cell_type": "markdown",
   "metadata": {},
   "source": [
    "# Sets in Python 3\n",
    "---\n",
    "\n",
    "A set is an unordered collection with no duplicate elements in Python 3. \n",
    "\n",
    "Set is a mathematical way to describe collection of different unique objects. \n",
    "\n",
    "By following the operations and characteristics of the mathematical set, we can utilizie such data structure in our Python code.\n",
    "\n",
    "The mathematical definition of the set can read in more details [here.](https://en.wikipedia.org/wiki/Set_(mathematics))"
   ]
  },
  {
   "cell_type": "markdown",
   "metadata": {},
   "source": [
    "## Using Sets in Python 3\n",
    "\n",
    "**How to Define a Set**"
   ]
  },
  {
   "cell_type": "code",
   "execution_count": 1,
   "metadata": {},
   "outputs": [
    {
     "name": "stdout",
     "output_type": "stream",
     "text": [
      "example_set1: {1, 2, 3}\n",
      "example_set2: {'o', 'e', 'h', 'l'}\n",
      "--\n",
      "Singleton: {7}\n",
      "Empty Set: set()\n"
     ]
    }
   ],
   "source": [
    "# Set definition examples:\n",
    "example_set1 = {1, 2, 3}\n",
    "example_set2 = {'h','e','l','l','o'}\n",
    "\n",
    "print('example_set1:', example_set1)\n",
    "print('example_set2:', example_set2) # Notice there is only 1 'l'; Also notice the order of the values outputted\n",
    "print('--')\n",
    "\n",
    "singleton_set = {7}\n",
    "empty_set = set() # this is because {} is reversed for a different feature in python 3.\n",
    "\n",
    "print('Singleton:', singleton_set)\n",
    "print('Empty Set:', empty_set)"
   ]
  },
  {
   "cell_type": "markdown",
   "metadata": {},
   "source": [
    "**Basic Built-in Functions w/ Sets**"
   ]
  },
  {
   "cell_type": "code",
   "execution_count": 6,
   "metadata": {},
   "outputs": [
    {
     "name": "stdout",
     "output_type": "stream",
     "text": [
      "example_set: {'o', 'e', 'h', 'l'}\n",
      "--\n",
      "Number of Values: 4\n",
      "Minimum Value: e\n",
      "Maximum Value: o\n",
      "--\n",
      "tup to set: {2, 3, 5, 7}\n",
      "Original Array: ['orange', 'orange', 'watermelon', 'apple', 'kiwi', 'kiwi', 'kiwi', 'kiwi', 'kiwi', 'kiwi', 'kiwi', 'kiwi', 'kiwi', 'kiwi']\n",
      "list to set: {'watermelon', 'orange', 'apple', 'kiwi'}\n"
     ]
    }
   ],
   "source": [
    "# Basic Built-in Functions w/ Sets\n",
    "\n",
    "example_set = set('hello') # set() turns an iterable into a set\n",
    "print('example_set:', example_set)\n",
    "print('--')\n",
    "\n",
    "print('Number of Values:', len(example_set)) # length function\n",
    "print('Minimum Value:', min(example_set)) # min function\n",
    "print('Maximum Value:', max(example_set)) # max function\n",
    "print('--')\n",
    "\n",
    "# tuple to set\n",
    "tup = (2,3,5,7)\n",
    "print('tup to set:', set(tup))\n",
    "\n",
    "# list to set\n",
    "array = ['orange']*2 +  ['watermelon', 'apple'] + ['kiwi'] * 10\n",
    "print('Original Array:', array)\n",
    "print('list to set:', set(array))"
   ]
  },
  {
   "cell_type": "markdown",
   "metadata": {},
   "source": [
    "**Basic Membership Operators**\n",
    "\n",
    "Membership is one of the key operations with set because:\n",
    "- A set has no duplicates\n",
    "- A set's membership operation is one of the fastest operations compared to strings, lists, or tuples _this will be covered more when we look at the concept of: **complexity**_\n",
    "- By using membership operator, we can be certain a target exists or does not exist in our data"
   ]
  },
  {
   "cell_type": "code",
   "execution_count": 11,
   "metadata": {},
   "outputs": [
    {
     "name": "stdout",
     "output_type": "stream",
     "text": [
      "Membership of: 'h' True\n",
      "Non-Membership of: 'z' True\n"
     ]
    }
   ],
   "source": [
    "# Membership Example\n",
    "example_set = set('hello')\n",
    "\n",
    "print(\"Membership of: \\'h\\'\", 'h' in example_set)\n",
    "print(\"Non-Membership of: \\'z\\'\", 'z' not in example_set)"
   ]
  },
  {
   "cell_type": "markdown",
   "metadata": {},
   "source": [
    "**Accessing Values in a Set**\n",
    "\n",
    "- Due to its unordered nature of a set, there is no concept of indexing or slicing with a set.\n",
    "- Set is **however** iterable."
   ]
  },
  {
   "cell_type": "code",
   "execution_count": 12,
   "metadata": {},
   "outputs": [
    {
     "name": "stdout",
     "output_type": "stream",
     "text": [
      "Values of example_set: 2\n",
      "Values of example_set: 3\n",
      "Values of example_set: 5\n",
      "Values of example_set: 7\n",
      "Values of example_set: 11\n",
      "Values of example_set: 13\n"
     ]
    }
   ],
   "source": [
    "# Iteration of a Set\n",
    "example_set = {2,3,5,7,11,13}\n",
    "\n",
    "for v in example_set:\n",
    "    print('Values of example_set:', v)"
   ]
  },
  {
   "cell_type": "markdown",
   "metadata": {},
   "source": [
    "**Python 3 Sets are mutable: Adding and Removing Values**\n",
    "- Sets are mutable; therefore, we can add and remove values\n",
    "- There are also methods much lists that can affect the original sets as well"
   ]
  },
  {
   "cell_type": "code",
   "execution_count": 18,
   "metadata": {},
   "outputs": [
    {
     "name": "stdout",
     "output_type": "stream",
     "text": [
      "Languages set: {'HTML', 'CSS', 'JavaScript', 'Python', 'Haskell', 'Java', 'C', 'C#'}\n",
      "--\n",
      "HTML deleted: {'CSS', 'JavaScript', 'Python', 'Haskell', 'Java', 'C', 'C#'}\n",
      "CSS deleted: {'JavaScript', 'Python', 'Haskell', 'Java', 'C', 'C#'}\n",
      "Randomly Removed value: JavaScript\n",
      "Empty languages: set()\n"
     ]
    }
   ],
   "source": [
    "# Adding and Removing Values\n",
    "languages = set() # empty set initialization\n",
    "\n",
    "programming_languages = ['C', 'C#', 'Java', 'Python', 'HTML', 'CSS', 'JavaScript', 'Haskell']\n",
    "\n",
    "for item in programming_languages:\n",
    "    languages.add(item) # .add() method adds an item to a set\n",
    "\n",
    "print('Languages set:', languages)\n",
    "print('--')\n",
    "\n",
    "languages.discard('HTML') # looks for the target value, if found, it will remove from the set\n",
    "print('HTML deleted:', languages)\n",
    "\n",
    "languages.remove('CSS') # remove can be used to delete a value; \n",
    "# only difference is it will raise an error if the target is not found\n",
    "print('CSS deleted:', languages)\n",
    "\n",
    "random_remove = languages.pop() # .pop() method deletes a random value and return the value ... not recommended\n",
    "print('Randomly Removed value:', random_remove)\n",
    "\n",
    "languages.clear() # .clear() will empty out a set : output is set()\n",
    "print('Empty languages:', languages)"
   ]
  },
  {
   "cell_type": "markdown",
   "metadata": {},
   "source": [
    "## Powering Up Sets: Set Operators\n",
    "\n",
    "Much like its mathematical counterpart, sets in Python 3 can utilize its vast operators to help us do complex calculations.\n",
    "\n",
    "Most of these operators will have a method counterpart because sets are _mutable_.\n",
    "\n",
    "_Note:_ We will be showcasing these operators with set of strings to make our lives easier, but this can be easily done with any kinds of sets.\n",
    "\n",
    "**Our Operators**\n",
    "- Union\n",
    "- Intersection\n",
    "- Difference\n",
    "- Symmetric Difference\n",
    "- Proper Subset\n",
    "- Subset\n",
    "- Proper Superset\n",
    "- Superset\n",
    "\n",
    "**Union:** The joining/combining of two sets."
   ]
  },
  {
   "cell_type": "code",
   "execution_count": 22,
   "metadata": {},
   "outputs": [
    {
     "name": "stdout",
     "output_type": "stream",
     "text": [
      "set1 union set 2: {'h', 'w', 'e', 'r', 'l', 'd', 'o'}\n"
     ]
    }
   ],
   "source": [
    "# Union Example:\n",
    "set1 = set('hello')\n",
    "set2 = set('world')\n",
    "\n",
    "result = set1 | set2 # | is the union operator ... all the members of both set are combined to a single set\n",
    "# Recall that: there are no duplicates\n",
    "print('set1 union set 2:', result)"
   ]
  },
  {
   "cell_type": "markdown",
   "metadata": {},
   "source": [
    "**Intersection:** Members/Items that only exists in both sets."
   ]
  },
  {
   "cell_type": "code",
   "execution_count": 21,
   "metadata": {
    "scrolled": true
   },
   "outputs": [
    {
     "name": "stdout",
     "output_type": "stream",
     "text": [
      "Intersection of set1 and set2: {'o', 'l'}\n"
     ]
    }
   ],
   "source": [
    "# Union Example:\n",
    "set1 = set('hello')\n",
    "set2 = set('world')\n",
    "\n",
    "result = set1 & set2 # & is the intersection operator\n",
    "print('Intersection of set1 and set2:', result)"
   ]
  },
  {
   "cell_type": "markdown",
   "metadata": {},
   "source": [
    "**Difference**: Members/items that only exists in the first set and not the second set."
   ]
  },
  {
   "cell_type": "code",
   "execution_count": 23,
   "metadata": {},
   "outputs": [
    {
     "name": "stdout",
     "output_type": "stream",
     "text": [
      "set1 - set2: {'e', 'h'}\n",
      "set2 - set1: {'w', 'd', 'r'}\n"
     ]
    }
   ],
   "source": [
    "# Difference Example:\n",
    "set1 = set('hello')\n",
    "set2 = set('world')\n",
    "\n",
    "result1 = set1 - set2 # - is the difference operator ... this is set1 difference set2\n",
    "result2 = set2 - set1 # set2 difference set1\n",
    "\n",
    "print('set1 - set2:', result1)\n",
    "print('set2 - set1:', result2)"
   ]
  },
  {
   "cell_type": "markdown",
   "metadata": {},
   "source": [
    "**Symmetric Difference:** Members/items that exists one or the other set, but not both sets"
   ]
  },
  {
   "cell_type": "code",
   "execution_count": 25,
   "metadata": {},
   "outputs": [
    {
     "name": "stdout",
     "output_type": "stream",
     "text": [
      "Symmetric Difference of: {'e', 'h', 'w', 'd', 'r'}\n"
     ]
    }
   ],
   "source": [
    "# Symmetric Difference Example:\n",
    "set1 = set('hello')\n",
    "set2 = set('world')\n",
    "\n",
    "result = set1 ^ set2 # ^ is the symmetric difference operator\n",
    "\n",
    "print('Symmetric Difference of:', result)"
   ]
  },
  {
   "cell_type": "markdown",
   "metadata": {},
   "source": [
    "**Proper Subset**: This is a boolean operator.\n",
    "- A is proper subset of B if all members of A is found in B, but A cannot be exactly the same as B"
   ]
  },
  {
   "cell_type": "code",
   "execution_count": 43,
   "metadata": {},
   "outputs": [
    {
     "name": "stdout",
     "output_type": "stream",
     "text": [
      "Is set1 proper subset of set2?: True\n",
      "Is set1 proper subset of set3?: False\n",
      "Is set1 proper subset of set4?: False\n"
     ]
    }
   ],
   "source": [
    "# Proper Subset Example:\n",
    "set1 = {1,2,3}\n",
    "set2 = {1,2,3,4}\n",
    "set3 = {1,2,3}\n",
    "set4 = set('hello')\n",
    "\n",
    "print('Is set1 proper subset of set2?:', set1 < set2) # < is the proper subset operator\n",
    "print('Is set1 proper subset of set3?:', set1 < set3)\n",
    "print('Is set1 proper subset of set4?:', set1 < set4)"
   ]
  },
  {
   "cell_type": "markdown",
   "metadata": {},
   "source": [
    "**Subset:** This is a boolean operator\n",
    "- A is a Proper Subset of B if A < B is True, but A can equal to B unlike a proper subset"
   ]
  },
  {
   "cell_type": "code",
   "execution_count": 42,
   "metadata": {},
   "outputs": [
    {
     "name": "stdout",
     "output_type": "stream",
     "text": [
      "Is set1 a subset of set2?: True\n",
      "Is set1 a subset of set3?: True\n",
      "Is set1 a subset of set4?: False\n"
     ]
    }
   ],
   "source": [
    "# Subset Example:\n",
    "set1 = {1,2,3}\n",
    "set2 = {1,2,3,4}\n",
    "set3 = {1,2,3}\n",
    "set4 = set('hello')\n",
    "\n",
    "print('Is set1 a subset of set2?:', set1 <= set2) # <= is the subset operator\n",
    "print('Is set1 a subset of set3?:', set1 <= set3) # Notice the difference in value here\n",
    "print('Is set1 a subset of set4?:', set1 <= set4)"
   ]
  },
  {
   "cell_type": "markdown",
   "metadata": {},
   "source": [
    "**Proper Superset:** This is a boolean operator\n",
    "- A is a proper superset of B if A has all the values of B and more, but they are not equal to each other"
   ]
  },
  {
   "cell_type": "code",
   "execution_count": 44,
   "metadata": {},
   "outputs": [
    {
     "name": "stdout",
     "output_type": "stream",
     "text": [
      "Is set1 proper superset of set2?: False\n",
      "Is set1 proper superset of set3?: True\n",
      "Is set1 proper superset of set4?: False\n"
     ]
    }
   ],
   "source": [
    "# Superset Example:\n",
    "set1 = {1,2,3,4}\n",
    "set2 = {1,2,3,4}\n",
    "set3 = {1,2,3}\n",
    "set4 = set('hello')\n",
    "\n",
    "print('Is set1 proper superset of set2?:', set1 > set2) # > is the proper superset operator\n",
    "print('Is set1 proper superset of set3?:', set1 > set3)\n",
    "print('Is set1 proper superset of set4?:', set1 > set4)"
   ]
  },
  {
   "cell_type": "markdown",
   "metadata": {},
   "source": [
    "**Superset:** This is a boolean operator\n",
    "- A is a superset of B if A > B or A == B"
   ]
  },
  {
   "cell_type": "code",
   "execution_count": 32,
   "metadata": {},
   "outputs": [
    {
     "name": "stdout",
     "output_type": "stream",
     "text": [
      "Is set1 superset of set2?: True\n",
      "Is set1 superset of set3?: True\n",
      "Is set1 superset of set4?: False\n"
     ]
    }
   ],
   "source": [
    "# Superset Example:\n",
    "set1 = {1,2,3,4}\n",
    "set2 = {1,2,3,4}\n",
    "set3 = {1,2,3}\n",
    "set4 = set('hello')\n",
    "\n",
    "print('Is set1 superset of set2?:', set1 >= set2) # >= is the proper superset operator\n",
    "print('Is set1 superset of set3?:', set1 >= set3)\n",
    "print('Is set1 superset of set4?:', set1 >= set4)"
   ]
  },
  {
   "cell_type": "markdown",
   "metadata": {},
   "source": [
    "## Disjoint: A Set Behaviour Property\n",
    "\n",
    "Two set are consided disjointed when two sets share no common value.\n",
    "- Let A and B both represent a set.\n",
    "- If A & B is empty, then set A and B are considered disjointed.\n",
    "- To check this in python there is a method called: _isdisjoint()_\n",
    "\n",
    "_Recall:_ & is the intersection operator"
   ]
  },
  {
   "cell_type": "code",
   "execution_count": 39,
   "metadata": {},
   "outputs": [
    {
     "name": "stdout",
     "output_type": "stream",
     "text": [
      "set1 intersect set2: set()\n",
      "set1 intersect set3: {1, 2, 3, 4}\n",
      "--\n",
      "set 1 disjoint set 2 check: True\n",
      "set 1 disjoint set 3 check: False\n"
     ]
    }
   ],
   "source": [
    "# Disjoint Example\n",
    "# .isdisjoint() is a set method to check for such property between two sets.\n",
    "\n",
    "set1 = {1,2,3,4}\n",
    "set2 = {5,6,7}\n",
    "set3 = {1,2,3,4,5}\n",
    "\n",
    "print('set1 intersect set2:', set1 & set2) # Output is an empty set\n",
    "print('set1 intersect set3:', set1 & set3) # Output is an non-empty set\n",
    "print('--')\n",
    "print('set 1 disjoint set 2 check:', set1.isdisjoint(set2)) # Therefore .isdisjoint() evaluates to True\n",
    "print('set 1 disjoint set 3 check:', set2.isdisjoint(set3))"
   ]
  },
  {
   "cell_type": "markdown",
   "metadata": {},
   "source": [
    "## Set Operators as Methods"
   ]
  },
  {
   "cell_type": "code",
   "execution_count": 56,
   "metadata": {},
   "outputs": [
    {
     "name": "stdout",
     "output_type": "stream",
     "text": [
      "Union: {'b', 'a', 'r', 'd', 'c'}\n",
      "Intersection: {'b', 'a', 'r', 'd', 'c'}\n",
      "Difference: {'b', 'a', 'r', 'd', 'c'}\n",
      "Symmetric Difference: {'b', 'a', 'r', 'd', 'c'}\n",
      "Subset: False\n",
      "Superset: False\n",
      "--\n",
      ".copy() examples:\n",
      "set a: {'b', 'a', 'z', 'r', 'd', 'c'}\n",
      "set b: {'b', 'a', 'd', 'r', 'c'}\n",
      "set c: {'b', 'a', 'z', 'r', 'd', 'c'}\n"
     ]
    }
   ],
   "source": [
    "# Union\n",
    "a = set('abracadabra')\n",
    "b = set('alacazam')\n",
    "\n",
    "a.union(b)\n",
    "print('Union:', a)\n",
    "\n",
    "# Intersection\n",
    "a = set('abracadabra')\n",
    "b = set('alacazam')\n",
    "\n",
    "a.intersection(b)\n",
    "print('Intersection:', a)\n",
    "\n",
    "# Difference \n",
    "a = set('abracadabra')\n",
    "b = set('alacazam')\n",
    "\n",
    "a.difference(b)\n",
    "print('Difference:', a)\n",
    "\n",
    "# Symmeteric Difference\n",
    "a = set('abracadabra')\n",
    "b = set('alacazam')\n",
    "\n",
    "a.symmetric_difference(b)\n",
    "print('Symmetric Difference:', a)\n",
    "\n",
    "# Subset\n",
    "a = set('abracadabra')\n",
    "b = set('alacazam')\n",
    "\n",
    "print('Subset:', a.issubset(b))\n",
    "\n",
    "# Superset\n",
    "a = set('abracadabra')\n",
    "b = set('alacazam')\n",
    "\n",
    "print('Superset:', a.issuperset(b))\n",
    "print('--')\n",
    "\n",
    "# There are no proper subset/superset methods\n",
    "\n",
    "# copy\n",
    "a = set('abracadabra')\n",
    "b = a.copy()\n",
    "c = a\n",
    "\n",
    "a.add('z')\n",
    "print('.copy() examples:')\n",
    "print('set a:', a)\n",
    "print('set b:', b)\n",
    "print('set c:', c)"
   ]
  },
  {
   "cell_type": "markdown",
   "metadata": {},
   "source": [
    "**Assignment Operation & Updating Methods**\n",
    "- This is a way to affect an original set with another and assign the result back to the original set"
   ]
  },
  {
   "cell_type": "code",
   "execution_count": 60,
   "metadata": {},
   "outputs": [
    {
     "name": "stdout",
     "output_type": "stream",
     "text": [
      "Union Update: {'b', 'a', 'z', 'r', 'l', 'm', 'd', 'c'}\n",
      "Intersection Update: {'c', 'a'}\n",
      "Difference Update: {'b', 'r', 'd'}\n",
      "Symmeteric Difference Update: {'b', 'z', 'r', 'l', 'm', 'd'}\n"
     ]
    }
   ],
   "source": [
    "# Union and Update --> Update the set, adding elements from all others.\n",
    "a = set('abracadabra')\n",
    "b = set('alacazam')\n",
    "\n",
    "a |= b # same as: a.update(b)\n",
    "print('Union Update:', a)\n",
    "\n",
    "# Intersection and Update --> Update the set, keeping only elements found in it and all others.\n",
    "a = set('abracadabra')\n",
    "b = set('alacazam')\n",
    "\n",
    "a &= b # same as: a.intersection_update(b)\n",
    "print('Intersection Update:', a)\n",
    "\n",
    "# Difference and Update --> Update the set, removing elements found in others.\n",
    "a = set('abracadabra')\n",
    "b = set('alacazam')\n",
    "\n",
    "a -= b # same as: a.difference_update(b)\n",
    "print('Difference Update:', a)\n",
    "\n",
    "# Symmetric Difference and Update --> Update the set, keeping only elements found in either set, but not in both.\n",
    "a = set('abracadabra')\n",
    "b = set('alacazam')\n",
    "\n",
    "a ^= b # same as: a.symmetric_difference_update(b)\n",
    "print('Symmeteric Difference Update:', a)"
   ]
  },
  {
   "cell_type": "markdown",
   "metadata": {},
   "source": [
    "## Set Comprehension\n",
    "\n",
    "Much like list comprehension, sets support comprehension as well."
   ]
  },
  {
   "cell_type": "code",
   "execution_count": 62,
   "metadata": {},
   "outputs": [
    {
     "name": "stdout",
     "output_type": "stream",
     "text": [
      "Palindromic Numbers Set from 1 to 10000:\n",
      "{1, 2, 3, 4, 5, 6, 7, 8, 9, 515, 11, 6666, 525, 9229, 1551, 4114, 22, 535, 33, 545, 5665, 8228, 3113, 555, 44, 9779, 565, 55, 4664, 7227, 575, 2112, 66, 585, 8778, 77, 3663, 6226, 595, 1111, 88, 606, 7777, 99, 101, 2662, 616, 5225, 111, 626, 6776, 121, 9339, 636, 1661, 4224, 131, 646, 141, 5775, 656, 8338, 151, 3223, 666, 161, 9889, 676, 4774, 7337, 171, 686, 2222, 181, 696, 8888, 3773, 191, 6336, 707, 1221, 202, 717, 7887, 212, 2772, 727, 5335, 222, 737, 6886, 232, 9449, 747, 1771, 4334, 242, 757, 252, 5885, 767, 8448, 3333, 262, 777, 9999, 272, 787, 4884, 7447, 282, 2332, 797, 292, 8998, 808, 3883, 6446, 303, 9009, 818, 1331, 313, 828, 7997, 2882, 323, 5445, 838, 8008, 333, 848, 6996, 343, 9559, 1881, 858, 4444, 7007, 353, 868, 363, 5995, 878, 8558, 3443, 373, 6006, 888, 383, 898, 4994, 7557, 393, 2442, 909, 5005, 404, 919, 3993, 6556, 414, 9119, 929, 1441, 4004, 424, 939, 2992, 434, 5555, 949, 8118, 3003, 444, 959, 9669, 454, 1991, 969, 4554, 7117, 464, 2002, 979, 474, 8668, 989, 3553, 484, 6116, 999, 1001, 494, 7667, 2552, 505, 5115}\n"
     ]
    }
   ],
   "source": [
    "# Set Comprehension Example\n",
    "def isPalindrome(x):\n",
    "    ''' isPalindrome() returns True if string X is a palindrome '''\n",
    "    return x == x[::-1]\n",
    "\n",
    "nums = list(range(1,10000))\n",
    "palindromic_set = {num for num in nums if isPalindrome(str(num))}\n",
    "\n",
    "print('Palindromic Numbers Set from 1 to 10000:')\n",
    "print(palindromic_set)"
   ]
  },
  {
   "cell_type": "markdown",
   "metadata": {},
   "source": [
    "### Ending Notes on Sets for Python\n",
    "- Sets aren't sliceable nor indexable\n",
    "- Sets cannot have sets inside them\n",
    "- Sets do not have order; nor order of insertion\n",
    "- Sets cannot guarantee that their values will be in order\n",
    "- Sets do not record a value's position"
   ]
  }
 ],
 "metadata": {
  "kernelspec": {
   "display_name": "Python 3",
   "language": "python",
   "name": "python3"
  },
  "language_info": {
   "codemirror_mode": {
    "name": "ipython",
    "version": 3
   },
   "file_extension": ".py",
   "mimetype": "text/x-python",
   "name": "python",
   "nbconvert_exporter": "python",
   "pygments_lexer": "ipython3",
   "version": "3.6.10"
  }
 },
 "nbformat": 4,
 "nbformat_minor": 4
}
