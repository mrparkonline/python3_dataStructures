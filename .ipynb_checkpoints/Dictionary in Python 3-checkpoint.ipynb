{
 "cells": [
  {
   "cell_type": "markdown",
   "metadata": {},
   "source": [
    "# Dictionary in Python 3\n",
    "---\n",
    "Dictionary (Associative Array, map, symbol table) is a data type that stores a collection of (key, value) pairs, such that each possible key appears at most once in the collection.\n",
    "\n",
    "**Common Operations:**\n",
    "- Adding a pair\n",
    "- Removing a pair\n",
    "- Modify an existing pair\n",
    "- Lookup of a value associated with a particular key\n",
    "\n",
    "_Aside:_ This concept is an introduction to concepts similar to: hash table and search trees\n",
    "\n",
    "## Defining a Dictionary in Python 3\n",
    "```\n",
    "Dictionaries also use {} like sets; however, their individual item format is very different.\n",
    "\n",
    "Each item in a dictionary be a pair of key: value.\n",
    "```"
   ]
  },
  {
   "cell_type": "code",
   "execution_count": 4,
   "metadata": {},
   "outputs": [
    {
     "name": "stdout",
     "output_type": "stream",
     "text": [
      "Sammy dict: {'username': 'sammy', 'online': True, 'followers': 42}\n",
      "Username: sammy\n",
      "Online Status: True\n",
      "Follower Count: 42\n"
     ]
    }
   ],
   "source": [
    "# Dictionary Example\n",
    "sammy = {\n",
    "    'username': 'sammy', \n",
    "    'online': True, \n",
    "    'followers': 42\n",
    "}\n",
    "\n",
    "# There are 3 items: each with their unique addresses and value\n",
    "# Accessing\n",
    "print('Sammy dict:', sammy)\n",
    "print('Username:', sammy['username'])\n",
    "print('Online Status:', sammy['online'])\n",
    "print('Follower Count:', sammy['followers'])"
   ]
  },
  {
   "cell_type": "markdown",
   "metadata": {},
   "source": [
    "### Dictionary Properties\n",
    "\n",
    "Each item in a dictionary is a key, value pair.\n",
    "\n",
    "#### Keys\n",
    "Keys are unique address for a dictionary value's location\n",
    "\n",
    "**Key Properties:**\n",
    "- Must be immutable (strings, numbers, tuples, frozenset)\n",
    "- Unique; therefore, two same key values cannot exist in a single dictionary\n",
    "    - NEWEST CREATED ITEM with a duplicate KEY superceeds the previous declaration\n",
    " \n",
    "#### Values\n",
    "Values of a dictionary within a key can be any data type."
   ]
  },
  {
   "cell_type": "code",
   "execution_count": null,
   "metadata": {},
   "outputs": [],
   "source": []
  }
 ],
 "metadata": {
  "kernelspec": {
   "display_name": "Python 3",
   "language": "python",
   "name": "python3"
  },
  "language_info": {
   "codemirror_mode": {
    "name": "ipython",
    "version": 3
   },
   "file_extension": ".py",
   "mimetype": "text/x-python",
   "name": "python",
   "nbconvert_exporter": "python",
   "pygments_lexer": "ipython3",
   "version": "3.6.10"
  }
 },
 "nbformat": 4,
 "nbformat_minor": 4
}
