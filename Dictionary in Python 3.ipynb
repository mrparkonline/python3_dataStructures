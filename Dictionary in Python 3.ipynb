{
 "cells": [
  {
   "cell_type": "markdown",
   "metadata": {},
   "source": [
    "# Dictionary in Python 3\n",
    "---\n",
    "Dictionary (Associative Array, map, symbol table) is a data type that stores a collection of (key, value) pairs, such that each possible key appears at most once in the collection.\n",
    "\n",
    "**Common Operations:**\n",
    "- Adding a pair\n",
    "- Removing a pair\n",
    "- Modify an existing pair\n",
    "- Lookup of a value associated with a particular key\n",
    "\n",
    "_Aside:_ This concept is an introduction to concepts similar to: hash table and search trees\n",
    "\n",
    "## Defining a Dictionary in Python 3\n",
    "```\n",
    "Dictionaries also use {} like sets; however, their individual item format is very different.\n",
    "\n",
    "Each item in a dictionary be a pair of key: value.\n",
    "```"
   ]
  },
  {
   "cell_type": "code",
   "execution_count": 4,
   "metadata": {},
   "outputs": [
    {
     "name": "stdout",
     "output_type": "stream",
     "text": [
      "Sammy dict: {'username': 'sammy', 'online': True, 'followers': 42}\n",
      "Username: sammy\n",
      "Online Status: True\n",
      "Follower Count: 42\n"
     ]
    }
   ],
   "source": [
    "# Dictionary Example\n",
    "sammy = {\n",
    "    'username': 'sammy', \n",
    "    'online': True, \n",
    "    'followers': 42\n",
    "}\n",
    "\n",
    "# There are 3 items: each with their unique addresses and value\n",
    "# Accessing\n",
    "print('Sammy dict:', sammy)\n",
    "print('Username:', sammy['username'])\n",
    "print('Online Status:', sammy['online'])\n",
    "print('Follower Count:', sammy['followers'])"
   ]
  },
  {
   "cell_type": "markdown",
   "metadata": {},
   "source": [
    "### Dictionary Properties\n",
    "\n",
    "Each item in a dictionary is a key, value pair.\n",
    "\n",
    "#### Keys\n",
    "Keys are unique address for a dictionary value's location\n",
    "\n",
    "**Key Properties:**\n",
    "- Must be immutable (strings, numbers, tuples, frozenset)\n",
    "- Unique; therefore, two same key values cannot exist in a single dictionary\n",
    "    - NEWEST CREATED ITEM with a duplicate KEY superceeds the previous declaration\n",
    " \n",
    "#### Values\n",
    "Values of a dictionary within a key can be any data type."
   ]
  },
  {
   "cell_type": "markdown",
   "metadata": {},
   "source": [
    "#### Updating a Dictionary\n",
    "- We can modify existing values by referencing the key\n",
    "- We can add new values to a dictionary by creating a new key\n",
    "- We can overwrite a value at an existing key by referencing and recreating the value for it"
   ]
  },
  {
   "cell_type": "code",
   "execution_count": 7,
   "metadata": {},
   "outputs": [
    {
     "name": "stdout",
     "output_type": "stream",
     "text": [
      "Sammy Dict: {'username': 'SammySammy', 'online': True, 'followers': 52, 'verified': True}\n"
     ]
    }
   ],
   "source": [
    "# Update Example\n",
    "\n",
    "sammy = {\n",
    "    'username': 'sammy', \n",
    "    'online': True, \n",
    "    'followers': 42\n",
    "}\n",
    "\n",
    "sammy['followers'] += 10 # We are adding 10 to the value located at key: 'followers'\n",
    "sammy['verified'] = True # We added a new value at a new key: 'verified'\n",
    "sammy['username'] = 'SammySammy'\n",
    "\n",
    "print('Sammy Dict:', sammy)"
   ]
  },
  {
   "cell_type": "markdown",
   "metadata": {},
   "source": [
    "#### Deletion with Dictionary\n",
    "- We can delete a key hence deleting the value connected to the key\n",
    "- We can empty out the entire dictionary\n",
    "- We can delete the dictionary (uncommonly used)"
   ]
  },
  {
   "cell_type": "code",
   "execution_count": 11,
   "metadata": {},
   "outputs": [
    {
     "name": "stdout",
     "output_type": "stream",
     "text": [
      "followers key deleted: {'username': 'sammy', 'online': True}\n",
      "emptying out a dictionary {}\n",
      "--\n",
      "\n",
      "\n"
     ]
    },
    {
     "ename": "NameError",
     "evalue": "name 'sammy' is not defined",
     "output_type": "error",
     "traceback": [
      "\u001b[0;31m---------------------------------------------------------------------------\u001b[0m",
      "\u001b[0;31mNameError\u001b[0m                                 Traceback (most recent call last)",
      "\u001b[0;32m<ipython-input-11-d3cbe81f2de2>\u001b[0m in \u001b[0;36m<module>\u001b[0;34m\u001b[0m\n\u001b[1;32m     15\u001b[0m \u001b[0;34m\u001b[0m\u001b[0m\n\u001b[1;32m     16\u001b[0m \u001b[0;32mdel\u001b[0m \u001b[0msammy\u001b[0m\u001b[0;34m\u001b[0m\u001b[0;34m\u001b[0m\u001b[0m\n\u001b[0;32m---> 17\u001b[0;31m \u001b[0mprint\u001b[0m\u001b[0;34m(\u001b[0m\u001b[0;34m'Deleting sammy, should create an error when referenced again'\u001b[0m\u001b[0;34m,\u001b[0m \u001b[0msammy\u001b[0m\u001b[0;34m)\u001b[0m\u001b[0;34m\u001b[0m\u001b[0;34m\u001b[0m\u001b[0m\n\u001b[0m",
      "\u001b[0;31mNameError\u001b[0m: name 'sammy' is not defined"
     ]
    }
   ],
   "source": [
    "# Deletion Example\n",
    "\n",
    "sammy = {\n",
    "    'username': 'sammy', \n",
    "    'online': True, \n",
    "    'followers': 42\n",
    "}\n",
    "\n",
    "del sammy['followers'] # del is a keyword used to help us to execute a removal\n",
    "print('followers key deleted:', sammy)\n",
    "\n",
    "sammy.clear() # {} is considered an empty dict\n",
    "print('emptying out a dictionary', sammy)\n",
    "print('--\\n\\n')\n",
    "\n",
    "del sammy\n",
    "print('Deleting sammy, should create an error when referenced again', sammy)\n"
   ]
  },
  {
   "cell_type": "markdown",
   "metadata": {},
   "source": [
    "#### Membership\n",
    "\n",
    "We can use the **in** and **not in** operators to check if a key exists in a dictionary"
   ]
  },
  {
   "cell_type": "code",
   "execution_count": 5,
   "metadata": {},
   "outputs": [
    {
     "name": "stdout",
     "output_type": "stream",
     "text": [
      "Checking for key username: True\n",
      "Checking if followers is not a key: False\n"
     ]
    }
   ],
   "source": [
    "# Membership Example\n",
    "\n",
    "sammy = {\n",
    "    'username': 'sammy', \n",
    "    'online': True, \n",
    "    'followers': 42\n",
    "}\n",
    "\n",
    "print('Checking for key username:', 'username' in sammy)\n",
    "print('Checking if followers is not a key:', 'followers' not in sammy)"
   ]
  },
  {
   "cell_type": "markdown",
   "metadata": {},
   "source": [
    "#### Built-in Functions' Interactions w/ Dictionaries"
   ]
  },
  {
   "cell_type": "code",
   "execution_count": 15,
   "metadata": {},
   "outputs": [
    {
     "name": "stdout",
     "output_type": "stream",
     "text": [
      "Size of sammy dict: 3\n",
      "Largest Key: username\n",
      "Smallest Key: followers\n",
      "Dict to string: {'username': 'sammy', 'online': True, 'followers': 42}\n",
      "Dict to list: ['username', 'online', 'followers']\n"
     ]
    }
   ],
   "source": [
    "# Built-in Function Interactions\n",
    "\n",
    "sammy = {\n",
    "    'username': 'sammy', \n",
    "    'online': True, \n",
    "    'followers': 42\n",
    "}\n",
    "\n",
    "print('Size of sammy dict:', len(sammy))\n",
    "print('Largest Key:', max(sammy))\n",
    "print('Smallest Key:', min(sammy))\n",
    "print('Dict to string:', str(sammy))\n",
    "print('Dict to list:', list(sammy))"
   ]
  },
  {
   "cell_type": "markdown",
   "metadata": {},
   "source": [
    "#### Duplicate a Dictionary and Copy Keys Only"
   ]
  },
  {
   "cell_type": "code",
   "execution_count": 21,
   "metadata": {
    "scrolled": true
   },
   "outputs": [
    {
     "name": "stdout",
     "output_type": "stream",
     "text": [
      "sammy_copy1: {'username': 'sammy', 'online': True, 'followers': 42}\n",
      "sammy_copy2: {'username': 'sammy', 'online': True, 'followers': 42, 'verified': True}\n",
      "--\n",
      "tammy dict: {'username': None, 'online': None, 'followers': None, 'verified': None}\n"
     ]
    }
   ],
   "source": [
    "# Duplicate a Dictionary\n",
    "\n",
    "sammy = {\n",
    "    'username': 'sammy', \n",
    "    'online': True, \n",
    "    'followers': 42\n",
    "}\n",
    "\n",
    "sammy_copy1 = sammy.copy()\n",
    "sammy_copy2 = sammy\n",
    "\n",
    "sammy['verified'] = True\n",
    "\n",
    "print('sammy_copy1:', sammy_copy1)\n",
    "print('sammy_copy2:', sammy_copy2)\n",
    "print('--')\n",
    "\n",
    "# Duplicate keys only\n",
    "\n",
    "tammy = tammy.fromkeys(sammy) # Notice that all key's values are None ... aka empty\n",
    "\n",
    "print('tammy dict:', tammy)"
   ]
  },
  {
   "cell_type": "markdown",
   "metadata": {},
   "source": [
    "## Dictionary Methods\n",
    "\n",
    "To help power this awesome data structure, it has good set of methods for us to use.\n",
    "\n",
    "_Let A and B be a dictionary_\n",
    "- A.keys() --> Returns a sequence of keys/addresses in A\n",
    "- A.values() --> Returns a sequence of item values in A\n",
    "- A.items() --> Returns a sequence of key,item pairs in A\n",
    "- A.get(address) --> Returns the item value at address\n",
    "- A.update(B) --> Extends A with the dictionary of key,value pairs of B\n"
   ]
  },
  {
   "cell_type": "code",
   "execution_count": 35,
   "metadata": {},
   "outputs": [
    {
     "name": "stdout",
     "output_type": "stream",
     "text": [
      "Sammy Dict Keys: dict_keys(['username', 'online', 'followers'])\n",
      "List of sammy_keys ['username', 'online', 'followers']\n",
      "--\n",
      "Sammy Dict Values: dict_values(['sammy', True, 42])\n",
      "Sammy Dict Values as a list: ['sammy', True, 42]\n",
      "--\n",
      "Sammy Dict key, value pairs: dict_items([('username', 'sammy'), ('online', True), ('followers', 42)])\n",
      "Sammy Dict key, value pairs as a list: [('username', 'sammy'), ('online', True), ('followers', 42)]\n",
      "--\n",
      "Sammy followers value: 42\n",
      "Same as: 42\n",
      "--\n",
      "Sammy extended with its hidden values: {'username': 'sammy', 'online': True, 'followers': 42, 'pwd': 'qwerty', 'location': 'Toronto, Ontario'}\n"
     ]
    }
   ],
   "source": [
    "# Dictionary Method Examples\n",
    "\n",
    "sammy = {\n",
    "    'username': 'sammy', \n",
    "    'online': True, \n",
    "    'followers': 42\n",
    "}\n",
    "\n",
    "sammy_hidden = {\n",
    "    'pwd' : 'qwerty',\n",
    "    'location' : 'Toronto, Ontario'\n",
    "}\n",
    "\n",
    "# printing all the keys of a dict\n",
    "print('Sammy Dict Keys:', sammy.keys()) # notice how it prints\n",
    "\n",
    "sammy_keys = list(sammy.keys()) # we can listify the .keys() returned\n",
    "print('List of sammy_keys', sammy_keys) \n",
    "print('--')\n",
    "\n",
    "# printing all the values of a dict\n",
    "print('Sammy Dict Values:', sammy.values())\n",
    "print('Sammy Dict Values as a list:', list(sammy.values()))\n",
    "print('--')\n",
    "\n",
    "# printing key, value pair of a dict\n",
    "print('Sammy Dict key, value pairs:', sammy.items())\n",
    "print('Sammy Dict key, value pairs as a list:', list(sammy.items()))\n",
    "print('--')\n",
    "\n",
    "# getting a value from a dict\n",
    "print('Sammy followers value:', sammy.get('followers'))\n",
    "print('Same as:', sammy['followers'])\n",
    "print('--')\n",
    "\n",
    "# updating / extending a dictionary\n",
    "sammy.update(sammy_hidden)\n",
    "\n",
    "print('Sammy extended with its hidden values:', sammy)"
   ]
  },
  {
   "cell_type": "markdown",
   "metadata": {},
   "source": [
    "## Iterating a Dictionary\n",
    "- We will be taking advantage of three iteration methods\n",
    "    1. iterating the keys\n",
    "    2. iterating the values\n",
    "    3. iterating the key, value pairs by unpacking\n"
   ]
  },
  {
   "cell_type": "code",
   "execution_count": 38,
   "metadata": {},
   "outputs": [
    {
     "name": "stdout",
     "output_type": "stream",
     "text": [
      "Current key: username\n",
      "Current key: online\n",
      "Current key: followers\n",
      "--\n",
      "\n",
      "Current value: sammy\n",
      "Current value: True\n",
      "Current value: 42\n",
      "--\n",
      "\n",
      "Current Key: username\n",
      "Current Value: sammy\n",
      "\n",
      "Current Key: online\n",
      "Current Value: True\n",
      "\n",
      "Current Key: followers\n",
      "Current Value: 42\n",
      "\n"
     ]
    }
   ],
   "source": [
    "# Iteration Example 1: Keys\n",
    "sammy = {\n",
    "    'username': 'sammy', \n",
    "    'online': True, \n",
    "    'followers': 42\n",
    "}\n",
    "\n",
    "for k in sammy.keys():\n",
    "    print('Current key:', k)\n",
    "print('--\\n')\n",
    "\n",
    "# Iteration Example 2: Values\n",
    "\n",
    "for v in sammy.values():\n",
    "    print('Current value:', v)\n",
    "print('--\\n')\n",
    "\n",
    "# Iteration Example 3: Key, Value Pair\n",
    "\n",
    "for k, v in sammy.items():\n",
    "    print('Current Key:', k)\n",
    "    print('Current Value:', v)\n",
    "    print()\n"
   ]
  },
  {
   "cell_type": "markdown",
   "metadata": {},
   "source": [
    "## dict() Constrcutor Dictionary Comprehension\n",
    "\n",
    "We can turn other data types to dictionaries.\n",
    "\n",
    "Also similar to lists, tuples, and sets, dictionaries also support comprehension.\n",
    "\n",
    "**Note:**\n",
    "- We must specify where the keys are and where the values."
   ]
  },
  {
   "cell_type": "code",
   "execution_count": 40,
   "metadata": {},
   "outputs": [
    {
     "name": "stdout",
     "output_type": "stream",
     "text": [
      "data_dict: {'one': 3, 'two': 3, 'three': 5}\n",
      "--\n",
      "data2_dict: {'1': 1, '2': 4, '3': 9, '4': 16, '5': 25}\n"
     ]
    }
   ],
   "source": [
    "# dict() Example\n",
    "\n",
    "example_data = [\n",
    "    ('one', 3),\n",
    "    ('two', 3),\n",
    "    ('three', 5)\n",
    "]\n",
    "\n",
    "data_dict = dict(example_data)\n",
    "print('data_dict:', data_dict)\n",
    "print('--')\n",
    "\n",
    "# Dictionary Comprehension\n",
    "# Goal: Take string numerals and assign them with their integer square\n",
    "# - keys : string numerals\n",
    "# - values: integer squares\n",
    "\n",
    "example_data2 = ['1', '2', '3', '4', '5']\n",
    "\n",
    "data2_dict = {x : int(x)**2 for x in example_data2}\n",
    "\n",
    "print('data2_dict:', data2_dict)"
   ]
  }
 ],
 "metadata": {
  "kernelspec": {
   "display_name": "Python 3",
   "language": "python",
   "name": "python3"
  },
  "language_info": {
   "codemirror_mode": {
    "name": "ipython",
    "version": 3
   },
   "file_extension": ".py",
   "mimetype": "text/x-python",
   "name": "python",
   "nbconvert_exporter": "python",
   "pygments_lexer": "ipython3",
   "version": "3.6.10"
  }
 },
 "nbformat": 4,
 "nbformat_minor": 4
}
